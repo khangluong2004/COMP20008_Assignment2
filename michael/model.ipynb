{
 "cells": [
  {
   "cell_type": "code",
   "execution_count": 7,
   "metadata": {},
   "outputs": [],
   "source": [
    "import pandas as pd\n",
    "import numpy as np\n",
    "import matplotlib.pyplot as plt\n",
    "import seaborn as sns\n",
    "from random import randint\n",
    "import ipynb.fs.full.preProcessing as preProcessing\n",
    "# from ipynb.fs.full.eda_new import population_data as _population_data\n",
    "from ipynb.fs.full.eda_new import population_data"
   ]
  },
  {
   "cell_type": "code",
   "execution_count": 13,
   "metadata": {},
   "outputs": [
    {
     "name": "stdout",
     "output_type": "stream",
     "text": [
      "[2024]\n",
      "(560, 109)\n",
      "['LGA', 'Travel time to GPO (minutes)', 'Area (km^2)', 'ARIA+ (min)', 'ARIA+ (max)', 'ARIA+ (avg)', 'Commercial (km^2)', 'Industrial (km^2)', 'Residential (km^2)', 'Rural (km^2)', 'Other (km^2)', '2012 ERP age 0-4, persons', '2012 ERP age 5-9, persons', '2012 ERP age 10-14, persons', '2012 ERP age 15-19, persons', '2012 ERP age 20-24, persons', '2012 ERP age 25-44, persons', '2012 ERP age 45-64, persons', '2012 ERP age 65-69, persons', '2012 ERP age 70-74, persons', '2012 ERP age 75-79, persons', '2012 ERP age 80-84, persons', '2012 ERP age 85+, persons', '2012 ERP, total', '2007 ERP age 0-4, persons', '2007 ERP age 5-9, persons', '2007 ERP age 10-14, persons', '2007 ERP age 15-19, persons', '2007 ERP age 20-24, persons', '2007 ERP age 25-44, persons', '2007 ERP age 45-64, persons', '2007 ERP age 65-69, persons', '2007 ERP age 70-74, persons', '2007 ERP age 75-79, persons', '2007 ERP age 80-84, persons', '2007 ERP age 85+, persons', '2007 ERP, total', 'Public Hospitals', 'Private Hospitals', 'Community Health Centres', 'Bush Nursing Centres', 'Allied Health', 'Alternative Health', 'Child Protection and Family', 'Dental', 'Disability', 'General Practice', 'Homelessness', 'Mental Health', 'Pharmacies', 'Aged Care (High Care)', 'Aged Care (Low Care)', 'Aged Care (SRS)', 'Kinder and/or Childcare', 'Primary Schools', 'Secondary Schools', 'P12 Schools', 'Other Schools', 'Centrelink Offices', 'Medicare Offices', 'Medicare Access Points', 'Number of Households', 'Occupied private dwellings', 'Population in non-private dwellings', 'Public Housing Dwellings', 'Dwellings with no motor vehicle', 'Dwellings with no internet', 'Equivalent household income <$600/week', 'Personal income <$400/week, persons', 'Number of families', 'Female-headed lone parent families', 'Male-headed lone parent families', '% residing near PT', 'IRSD (min)', 'IRSD (max)', 'IRSD (avg)', 'Primary school students', 'Secondary school students', 'TAFE students', 'University students', 'Holds degree or higher, persons', 'Did not complete year 12, persons', 'Unemployed, persons', 'Volunteers, persons', 'Requires assistance with core activities, persons', 'Aged 75+ and lives alone, persons', 'Unpaid carer to person with disability, persons', 'Unpaid carer of children, persons', 'Aboriginal or Torres Strait Islander, persons', 'Born overseas, persons', 'Born in non-English speaking country, persons', 'Speaks LOTE at home, persons', 'Poor English proficiency, persons', 'Travel time to nearest public hospital', 'Time to nearest public hospital with maternity services', 'Presentations to emergency departments, 2012-13', 'Travel time to nearest public hospital with emergency department', 'Presentations to emergency departments due to injury', 'Category 4 & 5 emergency department presentations', 'Number of Dwellings', 'Population', 'Location_x', 'Location_y', 'ABS remoteness category', 'Year', 'house_price', 'year', 'population', 'lga']\n"
     ]
    }
   ],
   "source": [
    "df = pd.read_csv('./final.csv')\n",
    "\n",
    "cleaned_egm = preProcessing.cleanedEgm\n",
    "cleaned_offences = preProcessing.cleanedOffences\n",
    "cleaned_housing_prices = preProcessing.cleanedHousingPrice\n",
    "cleaned_communities = preProcessing.cleanedCommunities\n",
    "\n",
    "# Restructure dataframe\n",
    "cleaned_housing_prices_melted = pd.melt(cleaned_housing_prices.reset_index(), id_vars=['LGA'], var_name='Year', value_name='house_price')\n",
    "cleaned_housing_prices_melted.head()\n",
    "\n",
    "# Convert year to int and increment by 1 to lag the year\n",
    "cleaned_housing_prices_melted['Year'] = cleaned_housing_prices_melted['Year'].astype(int) + 1\n",
    "\n",
    "# Merge with housing prices data\n",
    "merged = pd.merge(left=cleaned_communities, right=cleaned_housing_prices_melted, on=\"LGA\")\n",
    "\n",
    "# Merge with population data\n",
    "merged = pd.merge(left=merged, right=population_data, left_on=[\"LGA\", 'Year'], right_on=[\"lga\", 'year'], how='left')\n",
    "\n",
    "features = [\n",
    "    # 'Median House Price',\n",
    "    'Residential (km^2)',\n",
    "    'Number of Households',\n",
    "    'Occupied private dwellings',\n",
    "    'Equivalent household income <$600/week',\n",
    "    'Personal income <$400/week, persons',\n",
    "    'Number of families',\n",
    "    'Aged 75+ and lives alone, persons',\n",
    "    'house_price',\n",
    "    'Year'\n",
    "]\n",
    "\n",
    "# There are some missing values in the population data\n",
    "# Turns out that the missing values all belong to the year 2024, which does not exist in offences dataset, but is in housing prices dataset\n",
    "print(merged[merged['lga'].isnull()]['Year'].unique())\n",
    "\n",
    "# Drop rows with year 2013, or use inner join above\n",
    "merged = merged[merged['Year'] != 2024]\n",
    "\n",
    "print(merged.shape)\n",
    "\n",
    "print(list(merged.columns))  "
   ]
  },
  {
   "cell_type": "markdown",
   "metadata": {},
   "source": [
    "# The two models below are trained independently for each LGA, might not be accurate?"
   ]
  },
  {
   "cell_type": "code",
   "execution_count": 14,
   "metadata": {},
   "outputs": [
    {
     "name": "stdout",
     "output_type": "stream",
     "text": [
      "Mean Squared Error (MSE): 9058215.463370716\n",
      "Root Mean Squared Error (RMSE): 1694.0343714456988\n",
      "1.5717583026624442 %\n"
     ]
    }
   ],
   "source": [
    "# Linear Regression using single test-train split for each LGA\n",
    "\n",
    "from sklearn.linear_model import LinearRegression\n",
    "from sklearn.model_selection import train_test_split\n",
    "from sklearn.metrics import mean_squared_error\n",
    "\n",
    "model_data = merged.groupby('LGA')\n",
    "\n",
    "model = LinearRegression()\n",
    "\n",
    "mse_values = []\n",
    "rmse_values = []\n",
    "\n",
    "for lga, group in model_data:\n",
    "    X = group[features]\n",
    "    y = group['population'] # From population_data dataframe\n",
    "    X_train, X_test, y_train, y_test = train_test_split(X, y, test_size=0.2, random_state=randint(1, 10000000))\n",
    "    model.fit(X_train, y_train)\n",
    "\n",
    "    y_pred = model.predict(X_test)\n",
    "    # print(\"Predicted Population:\", y_pred)\n",
    "\n",
    "    mse = mean_squared_error(y_test, y_pred)\n",
    "    # print(\"Mean Squared Error (MSE):\", mse)\n",
    "    mse_values.append(mse)\n",
    "\n",
    "    rmse = np.sqrt(mse)\n",
    "    # print(\"Root Mean Squared Error (RMSE):\", rmse)\n",
    "    rmse_values.append(rmse)\n",
    "\n",
    "\n",
    "print(\"Mean Squared Error (MSE):\", np.mean(mse_values))\n",
    "print(\"Root Mean Squared Error (RMSE):\", np.mean(rmse_values))\n",
    "\n",
    "rmse_percentage = np.mean(rmse_values) / np.mean(merged['population']) * 100\n",
    "print(rmse_percentage, \"%\")"
   ]
  },
  {
   "cell_type": "code",
   "execution_count": 15,
   "metadata": {},
   "outputs": [
    {
     "name": "stdout",
     "output_type": "stream",
     "text": [
      "Mean Squared Error (MSE): 7522020.5945827225\n",
      "Root Mean Squared Error (RMSE): 1561.5282565369391\n",
      "1.4488165313667118 %\n"
     ]
    }
   ],
   "source": [
    "# Linear Regression using KFold for each LGA\n",
    "\n",
    "from sklearn.linear_model import LinearRegression\n",
    "from sklearn.model_selection import train_test_split\n",
    "from sklearn.metrics import mean_squared_error\n",
    "from sklearn.model_selection import KFold\n",
    "\n",
    "model_data = merged.groupby('LGA')\n",
    "\n",
    "model = LinearRegression()\n",
    "\n",
    "mse_values = []\n",
    "rmse_values = []\n",
    "\n",
    "kf = KFold(n_splits=10, shuffle=True, random_state=randint(1, 10000000))\n",
    "\n",
    "for lga, group in model_data:\n",
    "    X = group[features]\n",
    "    y = group['population'] # From population_data dataframe\n",
    "\n",
    "    for train_index, test_index in kf.split(X):\n",
    "        # Split the data into training and testing sets for the current fold\n",
    "        X_train, X_test = X.iloc[train_index], X.iloc[test_index]\n",
    "        y_train, y_test = y.iloc[train_index], y.iloc[test_index]\n",
    "        model.fit(X_train, y_train)\n",
    "\n",
    "        y_pred = model.predict(X_test)\n",
    "        # print(\"Predicted Population:\", y_pred)\n",
    "\n",
    "        mse = mean_squared_error(y_test, y_pred)\n",
    "        # print(\"Mean Squared Error (MSE):\", mse)\n",
    "        mse_values.append(mse)\n",
    "\n",
    "        rmse = np.sqrt(mse)\n",
    "        # print(\"Root Mean Squared Error (RMSE):\", rmse)\n",
    "        rmse_values.append(rmse)\n",
    "\n",
    "\n",
    "print(\"Mean Squared Error (MSE):\", np.mean(mse_values))\n",
    "print(\"Root Mean Squared Error (RMSE):\", np.mean(rmse_values))\n",
    "\n",
    "rmse_percentage = np.mean(rmse_values) / np.mean(merged['population']) * 100\n",
    "print(rmse_percentage, \"%\")"
   ]
  },
  {
   "cell_type": "markdown",
   "metadata": {},
   "source": [
    "# Train on across all LGA (using one-hot encoding)"
   ]
  },
  {
   "cell_type": "code",
   "execution_count": 16,
   "metadata": {},
   "outputs": [
    {
     "name": "stdout",
     "output_type": "stream",
     "text": [
      "Mean Squared Error (MSE): 3400098.874310495\n",
      "Root Mean Squared Error (RMSE): 1703.6696748297632\n",
      "1.5806981260496467 %\n"
     ]
    }
   ],
   "source": [
    "# Linear Regression using KFold for each LGA\n",
    "\n",
    "from sklearn.linear_model import LinearRegression\n",
    "from sklearn.model_selection import train_test_split\n",
    "from sklearn.metrics import mean_squared_error\n",
    "from sklearn.model_selection import KFold\n",
    "from sklearn.preprocessing import OneHotEncoder\n",
    "\n",
    "model_data = merged.copy()\n",
    "\n",
    "# One-hot encode LGA column\n",
    "unique_lga_names = model_data['LGA'].apply(lambda x: 'LGA_' + x).unique()\n",
    "model_data_encoded = pd.get_dummies(model_data, columns=['LGA'])\n",
    "\n",
    "# Combine one-hot encoded LGA columns with other features\n",
    "features_new = [\n",
    "    *features,\n",
    "    *unique_lga_names\n",
    "]\n",
    "\n",
    "model = LinearRegression()\n",
    "\n",
    "mse_values = []\n",
    "rmse_values = []\n",
    "\n",
    "kf = KFold(n_splits=10, shuffle=True, random_state=randint(1, 10000000))\n",
    "\n",
    "# for lga, group in model_data:\n",
    "X = group[features]\n",
    "y = group['population'] # From population_data dataframe\n",
    "\n",
    "for train_index, test_index in kf.split(X):\n",
    "    # Split the data into training and testing sets for the current fold\n",
    "    X_train, X_test = X.iloc[train_index], X.iloc[test_index]\n",
    "    y_train, y_test = y.iloc[train_index], y.iloc[test_index]\n",
    "    model.fit(X_train, y_train)\n",
    "\n",
    "    y_pred = model.predict(X_test)\n",
    "    # print(\"Predicted Population:\", y_pred)\n",
    "\n",
    "    mse = mean_squared_error(y_test, y_pred)\n",
    "    # print(\"Mean Squared Error (MSE):\", mse)\n",
    "    mse_values.append(mse)\n",
    "\n",
    "    rmse = np.sqrt(mse)\n",
    "    # print(\"Root Mean Squared Error (RMSE):\", rmse)\n",
    "    rmse_values.append(rmse)\n",
    "\n",
    "\n",
    "print(\"Mean Squared Error (MSE):\", np.mean(mse_values))\n",
    "print(\"Root Mean Squared Error (RMSE):\", np.mean(rmse_values))\n",
    "\n",
    "rmse_percentage = np.mean(rmse_values) / np.mean(merged['population']) * 100\n",
    "print(rmse_percentage, \"%\")"
   ]
  },
  {
   "cell_type": "code",
   "execution_count": null,
   "metadata": {},
   "outputs": [],
   "source": []
  }
 ],
 "metadata": {
  "kernelspec": {
   "display_name": "Python 3",
   "language": "python",
   "name": "python3"
  },
  "language_info": {
   "codemirror_mode": {
    "name": "ipython",
    "version": 3
   },
   "file_extension": ".py",
   "mimetype": "text/x-python",
   "name": "python",
   "nbconvert_exporter": "python",
   "pygments_lexer": "ipython3",
   "version": "3.12.5"
  }
 },
 "nbformat": 4,
 "nbformat_minor": 2
}
