{
 "cells": [
  {
   "cell_type": "markdown",
   "metadata": {},
   "source": [
    "# Sensitivity Analysis (LGA, Year)"
   ]
  },
  {
   "cell_type": "code",
   "execution_count": 1,
   "metadata": {},
   "outputs": [],
   "source": [
    "import pandas as pd\n",
    "import numpy as np\n",
    "import matplotlib.pyplot as plt"
   ]
  },
  {
   "cell_type": "code",
   "execution_count": 2,
   "metadata": {},
   "outputs": [],
   "source": [
    "# Constants\n",
    "N_SPLITS = 20\n",
    "RANDOM_STATE = 42"
   ]
  },
  {
   "cell_type": "code",
   "execution_count": 3,
   "metadata": {},
   "outputs": [],
   "source": [
    "# Load and preprocess data\n",
    "cleaned_offences = pd.read_csv('../cleanedCsv/cleanedOffences.csv')\n",
    "\n",
    "# Rename columns\n",
    "cleaned_offences.rename(columns={\n",
    "  'Local Government Area': 'LGA',\n",
    "  'Year': 'year'\n",
    "}, inplace=True)\n",
    "\n",
    "# Calculate population from rate and offence count\n",
    "cleaned_offences['population'] = cleaned_offences['Offence Count'] / cleaned_offences['Rate per 100,000 population'] * 100000\n",
    "\n",
    "# Drop columns that are not needed\n",
    "cleaned_offences.drop(columns=[\n",
    "    'Offence Count',\n",
    "    'Rate per 100,000 population',\n",
    "], inplace=True)\n",
    "\n",
    "# Drop total rows because we only need LGA\n",
    "cleaned_offences = cleaned_offences[cleaned_offences['LGA'] != 'total']\n",
    "\n",
    "# Create a new dataframe to store population data\n",
    "population_data = pd.DataFrame({\n",
    "    # 'last_year_population': [],\n",
    "    'year': [],\n",
    "    'LGA': [],\n",
    "})\n",
    "\n",
    "# Lag population by 1 year for each LGA\n",
    "# Remove 2014 from table because we don't have population data for 2013\n",
    "for LGA, group in cleaned_offences.groupby('LGA'):\n",
    "    # group['last_year_population'] = group['population'].shift(1)\n",
    "    # group['last_year_population'] = group['population'].mean()\n",
    "    group = group.dropna()\n",
    "    population_data = pd.concat([population_data, group], ignore_index=True)\n",
    "    population_data.drop(columns=['Unnamed: 0'], inplace=True)\n",
    "\n",
    "# Features we want to use\n",
    "features = [\n",
    "    # 'last_year_population',\n",
    "    'year',\n",
    "]"
   ]
  },
  {
   "cell_type": "code",
   "execution_count": 4,
   "metadata": {},
   "outputs": [
    {
     "name": "stdout",
     "output_type": "stream",
     "text": [
      "Root Mean Squared Error (RMSE): 8065.108991073481\n"
     ]
    }
   ],
   "source": [
    "# Linear Regression using KFold cross validation for each LGA\n",
    "from sklearn.linear_model import LinearRegression\n",
    "from sklearn.metrics import mean_squared_error\n",
    "from sklearn.model_selection import KFold\n",
    "\n",
    "model_data = population_data.copy()\n",
    "\n",
    "# One-hot encode LGA column\n",
    "unique_lga_names = model_data['LGA'].apply(lambda x: 'LGA_' + x).unique()\n",
    "model_data_encoded = pd.get_dummies(model_data, columns=['LGA'])\n",
    "\n",
    "# Combine one-hot encoded LGA columns with other features\n",
    "features_new = [\n",
    "    *features,\n",
    "    *unique_lga_names\n",
    "]\n",
    "\n",
    "model = LinearRegression()\n",
    "\n",
    "rmse_values = []\n",
    "\n",
    "kf = KFold(n_splits=N_SPLITS, shuffle=True, random_state=RANDOM_STATE)\n",
    "\n",
    "# for lga, group in model_data:\n",
    "X = model_data_encoded[features_new]\n",
    "y = model_data_encoded['population'] # From population_data dataframe\n",
    "\n",
    "for train_index, test_index in kf.split(X):\n",
    "    # Split the data into training and testing sets for the current fold\n",
    "    X_train, X_test = X.iloc[train_index], X.iloc[test_index]\n",
    "    y_train, y_test = y.iloc[train_index], y.iloc[test_index]\n",
    "    model.fit(X_train, y_train)\n",
    "\n",
    "    y_pred = model.predict(X_test)\n",
    "    rmse = np.sqrt(mean_squared_error(y_test, y_pred))\n",
    "    rmse_values.append(rmse)\n",
    "\n",
    "print(\"Root Mean Squared Error (RMSE):\", np.mean(rmse_values))"
   ]
  }
 ],
 "metadata": {
  "kernelspec": {
   "display_name": "Python 3",
   "language": "python",
   "name": "python3"
  },
  "language_info": {
   "codemirror_mode": {
    "name": "ipython",
    "version": 3
   },
   "file_extension": ".py",
   "mimetype": "text/x-python",
   "name": "python",
   "nbconvert_exporter": "python",
   "pygments_lexer": "ipython3",
   "version": "3.12.5"
  }
 },
 "nbformat": 4,
 "nbformat_minor": 2
}
